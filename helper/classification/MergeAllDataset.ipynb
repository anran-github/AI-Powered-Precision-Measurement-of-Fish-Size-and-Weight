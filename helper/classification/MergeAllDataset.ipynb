{
 "cells": [
  {
   "cell_type": "code",
   "execution_count": 1,
   "id": "0063020b",
   "metadata": {},
   "outputs": [],
   "source": [
    "import sys\n",
    "import cv2\n",
    "#Change path specificly to your directories\n",
    "sys.path.insert(1, '/home/codahead/Fishial/FishialReaserch')\n",
    "\n",
    "import os, json\n",
    "from os import listdir\n",
    "from os.path import isfile, join\n",
    "from module.classification_package.src.utils import read_json, save_json"
   ]
  },
  {
   "cell_type": "code",
   "execution_count": 2,
   "id": "0d75e5dc",
   "metadata": {},
   "outputs": [],
   "source": [
    "#list path path to json \n",
    "json_name = ['dataset/data_test_full.json', 'dataset/data_train_full.json']\n",
    "\n",
    "data_test = read_json(json_name[0])\n",
    "data_train = read_json(json_name[1])\n",
    "for i in data_test:\n",
    "    data_train[i].extend(data_test[i])\n",
    "    \n",
    "print(len(data_train['image_id']))\n",
    "\n",
    "label_dict = {}\n",
    "for idx, i in enumerate(data_test['label']):\n",
    "    if i not in label_dict:\n",
    "        label_dict.update(\n",
    "        {\n",
    "            i:data_test['label_encoded'][idx]\n",
    "        })"
   ]
  },
  {
   "cell_type": "code",
   "execution_count": null,
   "id": "4a88a9cc",
   "metadata": {},
   "outputs": [],
   "source": [
    "src_dir = 'dataset/self_cuted'\n",
    "dirs = [os.path.join(src_dir, o) for o in os.listdir(src_dir) \n",
    "                    if os.path.isdir(os.path.join(src_dir,o))]\n",
    "for path in dirs:\n",
    "    print(path)\n",
    "    basename = os.path.basename(path)\n",
    "    imgs = [f for f in listdir(path) if isfile(join(path, f))]\n",
    "    numss = 0\n",
    "    for img_name in imgs:\n",
    "        path_img = os.path.join(os.path.join(src_dir, basename), img_name)\n",
    "        try:\n",
    "            img = cv2.imread(path_img)\n",
    "            img = cv2.cvtColor(img, cv2.COLOR_BGR2RGB)\n",
    "        except:\n",
    "            print(\"Image is broken: \", path_img)\n",
    "            continue\n",
    "        image_id = os.path.basename(img_name).replace(\" \", \"\").split('.')[0]\n",
    "        label_encoded = label_dict[basename]\n",
    "        label = basename\n",
    "        img_path = os.path.join(os.path.join('self_cuted', basename), img_name)\n",
    "        data_train['image_id'].append(image_id)\n",
    "        data_train['label_encoded'].append(label_encoded)\n",
    "        data_train['label'].append(label)\n",
    "        data_train['img_path'].append(img_path)\n",
    "save_json(data_train, 'dataset/final_train.json')"
   ]
  }
 ],
 "metadata": {
  "kernelspec": {
   "display_name": "D2GO",
   "language": "python",
   "name": "d2go"
  },
  "language_info": {
   "codemirror_mode": {
    "name": "ipython",
    "version": 3
   },
   "file_extension": ".py",
   "mimetype": "text/x-python",
   "name": "python",
   "nbconvert_exporter": "python",
   "pygments_lexer": "ipython3",
   "version": "3.6.13"
  }
 },
 "nbformat": 4,
 "nbformat_minor": 5
}
