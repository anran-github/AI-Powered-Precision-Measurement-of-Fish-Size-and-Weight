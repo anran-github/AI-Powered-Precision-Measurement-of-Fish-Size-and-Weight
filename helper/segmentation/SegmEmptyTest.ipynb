{
 "cells": [
  {
   "cell_type": "code",
   "execution_count": null,
   "id": "f544187a",
   "metadata": {},
   "outputs": [],
   "source": [
    "import sys\n",
    "#Change path specificly to your directories\n",
    "sys.path.insert(1, '/home/fishial/Fishial/Object-Detection-Model')\n",
    "from module.segmentation_package.src.utils import get_sorted_data\n",
    "import os\n",
    "import cv2\n",
    "import copy\n",
    "import torch\n",
    "import time\n",
    "import logging\n",
    "import datetime\n",
    "import numpy as np\n",
    "import pandas as pd\n",
    "import matplotlib.pyplot as plt\n",
    "import albumentations as A\n",
    "\n",
    "from os import listdir\n",
    "from os.path import isfile, join\n",
    "\n",
    "from module.segmentation_package.src.utils import run_eval_checkpoints\n",
    "from module.segmentation_package.src.utils import get_current_date_in_format\n",
    "from module.segmentation_package.src.utils import get_dataset_dicts\n",
    "from module.segmentation_package.src.utils import get_prepared_data, get_empty_ann\n",
    "from module.segmentation_package.src.utils import remove_tmp_files\n",
    "from module.segmentation_package.src.utils import save_json, read_json\n",
    "from module.segmentation_package.src.utils import split_ds\n",
    "from module.segmentation_package.src.trainer import Trainer\n",
    "\n",
    "import albumentations as A\n",
    "\n",
    "from detectron2.utils.visualizer import ColorMode\n",
    "from detectron2.data import MetadataCatalog\n",
    "from detectron2.utils.visualizer import Visualizer\n",
    "import cv2\n",
    "\n",
    "# copy paste source\n",
    "from module.segmentation_package.src.copy_paste import CopyPaste\n",
    "from module.segmentation_package.src.coco import CocoDetectionCP\n",
    "from module.segmentation_package.src.CopyPasteCustom import apply_copy_paste_aug, get_copy_paste_instance, get_images_from_instance\n",
    "from detectron2.data import build_detection_train_loader\n",
    "from pycocotools import mask\n",
    "from skimage import measure\n",
    "\n",
    "from detectron2.config import get_cfg\n",
    "from detectron2 import model_zoo\n",
    "from detectron2.data import MetadataCatalog\n",
    "from detectron2.data import DatasetCatalog\n",
    "from detectron2.utils.logger import setup_logger\n",
    "from detectron2.engine import DefaultTrainer\n",
    "from detectron2.projects.point_rend import ColorAugSSDTransform, add_pointrend_config\n",
    "from detectron2.data.datasets import register_coco_instances\n",
    "from detectron2.evaluation import COCOEvaluator, inference_on_dataset\n",
    "from detectron2.structures import BoxMode\n",
    "from detectron2.data import detection_utils as utils\n",
    "from detectron2.engine import DefaultPredictor\n",
    "\n",
    "from module.segmentation_package.interpreter_segm import SegmentationInference\n",
    "import detectron2\n",
    "print(detectron2.__path__)\n",
    "\n",
    "def Average(lst):\n",
    "    return sum(lst) / len(lst)"
   ]
  },
  {
   "cell_type": "code",
   "execution_count": null,
   "id": "d1bde88e",
   "metadata": {},
   "outputs": [],
   "source": [
    "output_path = r'/home/fishial/Fishial/output/citiscape/18_11_2022_14_28_56/coco_eval.json'\n",
    "data = read_json(output_path)"
   ]
  },
  {
   "cell_type": "code",
   "execution_count": null,
   "id": "b19520f4",
   "metadata": {
    "scrolled": false
   },
   "outputs": [],
   "source": [
    "for i in data:\n",
    "    ap = data[i]['segm']['AP']\n",
    "    ap50 = data[i]['segm']['AP50']\n",
    "    ap75 = data[i]['segm']['AP75']\n",
    "    print(i,ap, ap50, ap75)"
   ]
  },
  {
   "cell_type": "code",
   "execution_count": null,
   "id": "7ca8ef10",
   "metadata": {},
   "outputs": [],
   "source": [
    "config_path = \"/home/fishial/Fishial/detectron2/projects/PointRend/configs/InstanceSegmentation/pointrend_rcnn_R_50_FPN_3x_coco.yaml\""
   ]
  },
  {
   "cell_type": "code",
   "execution_count": null,
   "id": "39b40d11",
   "metadata": {},
   "outputs": [],
   "source": [
    "cfg = get_cfg()\n",
    "add_pointrend_config(cfg)\n",
    "\n",
    "cfg.merge_from_file(config_path)\n",
    "cfg.MODEL.POINT_HEAD.NUM_CLASSES = 1\n",
    "cfg.MODEL.ROI_HEADS.NUM_CLASSES = 1\n",
    "cfg.DATALOADER.NUM_WORKERS = 4\n",
    "cfg.MODEL.WEIGHTS = \"/home/fishial/Fishial/output/citiscape/23_11_2022_14_50_20/model_1649999.pth\"\n",
    "cfg.MODEL.ROI_HEADS.NMS_THRESH_TEST = 0.5\n",
    "cfg.MODEL.ROI_HEADS.SCORE_THRESH_TEST = 0.4\n",
    "cfg.MODEL.DEVICE = 'cuda'\n",
    "# cfg.MODEL.RPN.BATCH_SIZE_PER_IMAGE = 128\n",
    "# cfg.MODEL.RPN.POST_NMS_TOPK_TEST = 64\n",
    "# cfg.MODEL.RPN.POST_NMS_TOPK_TRAIN = 64\n",
    "\n",
    "model = DefaultPredictor(cfg)"
   ]
  },
  {
   "cell_type": "code",
   "execution_count": null,
   "id": "6105b77e",
   "metadata": {
    "scrolled": true
   },
   "outputs": [],
   "source": [
    "path_to_empty_image_folder = r'/home/fishial/Fishial/dataset/coco_val2017'\n",
    "file_images = [f for f in listdir(path_to_empty_image_folder) if isfile(join(path_to_empty_image_folder, f))]\n",
    "\n",
    "count_false_positive = 0\n",
    "delta_time = []\n",
    "scores = []\n",
    "for idx, filename in enumerate(file_images):\n",
    "    path = join(path_to_empty_image_folder, filename)\n",
    "    img = cv2.imread(path)\n",
    "    img = cv2.cvtColor(img, cv2.COLOR_BGR2RGB)\n",
    "    s_t = time.time()\n",
    "    output = model(img)\n",
    "    \n",
    "    delta_time.append(time.time() - s_t)\n",
    "    count_false_positive += len(output['instances'].pred_classes)\n",
    "    scores.extend(output['instances'].scores.detach().cpu().numpy())\n",
    "    print(f\"idx: {idx} count: {count_false_positive} average time: {Average(delta_time)}\", end='\\r')"
   ]
  },
  {
   "cell_type": "code",
   "execution_count": null,
   "id": "0b4a24a1",
   "metadata": {
    "scrolled": false
   },
   "outputs": [],
   "source": [
    "print(cfg.MODEL.RPN.BATCH_SIZE_PER_IMAGE)\n",
    "print(cfg.MODEL.RPN.POST_NMS_TOPK_TRAIN)"
   ]
  },
  {
   "cell_type": "code",
   "execution_count": null,
   "id": "7f0d9a3a",
   "metadata": {},
   "outputs": [],
   "source": [
    "/home/fishial/Fishial/saved_models/point_rend_top_fish.pth = 2847\n",
    "/home/fishial/Fishial/output/NEW_DATASET/10_11_2022_11_58_02/model_1999999.pth = 1138 / 1129\n",
    "/home/fishial/Fishial/output/NEW_DATASET/07_11_2022_10_32_26/model_1999999.pth = 1228\n",
    "/home/fishial/Fishial/output/NEW_DATASET/07_11_2022_10_32_26/model_0999999.pth = 1927\n",
    "/home/fishial/Fishial/output/amp_on/02_11_2022_11_44_11/model_0999999.pth = 1536\n",
    "/home/fishial/Fishial/output/amp_on/02_11_2022_11_44_11/model_0859999.pth = 1557\n",
    "/home/fishial/Fishial/output/amp_on/31_10_2022_20_33_47/model_0999999.pth = 2361\n",
    "/home/fishial/Fishial/output/amp_on/31_10_2022_20_33_47/model_0499999.pth = 2392\n",
    "/home/fishial/Fishial/output/citiscape/16_11_2022_09_58_04/model_1049999.pth = 1586\n",
    "/home/fishial/Fishial/output/citiscape/16_11_2022_09_58_04/model_1649999.pth = 1677\n",
    "/home/fishial/Fishial/output/citiscape/18_11_2022_11_00_37/model_0049999.pth = 8265\n",
    "            \n",
    "/home/fishial/Fishial/output/citiscape/18_11_2022_14_28_56/model_1999999.pth = 1571\n",
    "/home/fishial/Fishial/output/citiscape/18_11_2022_14_28_56/model_0649999.pth = 2277\n",
    "/home/fishial/Fishial/output/citiscape/22_11_2022_14_35_57/model_0099999.pth = 2003\n",
    "/home/fishial/Fishial/output/citiscape/23_11_2022_14_50_20/model_1049999.pth = 1170\n",
    "/home/fishial/Fishial/output/citiscape/23_11_2022_14_50_20/model_1299999.pth = 1194/1194\n",
    "/home/fishial/Fishial/output/citiscape/23_11_2022_14_50_20/model_1799999.pth = 1162\n",
    "\n"
   ]
  },
  {
   "cell_type": "code",
   "execution_count": null,
   "id": "64568a98",
   "metadata": {},
   "outputs": [],
   "source": [
    "commutes = pd.Series(np.array(scores))\n",
    "\n",
    "commutes.plot.hist(grid=True, bins=20, rwidth=0.9,\n",
    "                   color='#607c8e')\n",
    "plt.title('histogram')\n",
    "plt.xlabel('count')\n",
    "plt.ylabel('score')\n",
    "plt.grid(axis='y', alpha=0.75)"
   ]
  }
 ],
 "metadata": {
  "kernelspec": {
   "display_name": "detectron2_env",
   "language": "python",
   "name": "detectron2_env"
  },
  "language_info": {
   "codemirror_mode": {
    "name": "ipython",
    "version": 3
   },
   "file_extension": ".py",
   "mimetype": "text/x-python",
   "name": "python",
   "nbconvert_exporter": "python",
   "pygments_lexer": "ipython3",
   "version": "3.6.13"
  }
 },
 "nbformat": 4,
 "nbformat_minor": 5
}
