{
 "cells": [
  {
   "cell_type": "code",
   "execution_count": 1,
   "id": "08cb3e0e",
   "metadata": {},
   "outputs": [],
   "source": [
    "import sys\n",
    "#Change path specificly to your directories\n",
    "sys.path.insert(1, '/home/codahead/Fishial/FishialReaserch')\n",
    "\n",
    "import time\n",
    "import torch\n",
    "import os\n",
    "import cv2\n",
    "import matplotlib.pyplot as plt\n",
    "import torchvision.models as models\n",
    "import numpy as np\n",
    "from torch import nn\n",
    "from torch.optim import Optimizer, SGD\n",
    "from torch.utils.data import DataLoader\n",
    "from torch.utils.data.dataset import Dataset\n",
    "from torchvision import transforms\n",
    "from sklearn.neighbors import KDTree\n",
    "\n",
    "from module.segmentation_package.src.utils import get_dataset_dicts\n",
    "from module.classification_package.src.utils import save_json\n",
    "from module.classification_package.interpreter_classifier import ClassifierFC\n",
    "from module.classification_package.interpreter_embeding import EmbeddingClassifier\n",
    "from module.segmentation_package.interpreter_segm import SegmentationInference\n",
    "# from module.segmentation_package.src.utils import resize_image\n",
    "\n",
    "#@title do detection and display result\n",
    "from detectron2.utils.visualizer import ColorMode\n",
    "from detectron2.data import MetadataCatalog\n",
    "from detectron2.utils.visualizer import Visualizer\n",
    "import cv2\n",
    "\n",
    "\n",
    "from PIL import Image\n",
    "import numpy as np\n",
    "import random\n",
    "import sklearn.metrics.pairwise\n",
    "import scipy.spatial.distance\n",
    "import copy\n",
    "\n",
    "import json\n",
    "import time\n",
    "import requests\n",
    "import warnings\n",
    "warnings.filterwarnings('ignore')\n",
    "from os import listdir\n",
    "from os.path import isfile, join\n",
    "from shapely.geometry import Polygon\n",
    "from tqdm import tqdm\n",
    "\n",
    "\n",
    "def get_image(path):\n",
    "    return cv2.cvtColor(cv2.imread(image_path), cv2.COLOR_BGR2RGB)\n",
    "\n",
    "def get_poly_from_coco(polys):\n",
    "    poly_arrays = []\n",
    "    for inst in polys:\n",
    "        poly = inst['segmentation'][0]\n",
    "        poly_array = []\n",
    "        for i in range(int(len(poly)/2)):\n",
    "            poly_array.append( (int(poly[2 * i]), int(poly[2 * i + 1])) )\n",
    "        poly_arrays.append(Polygon(poly_array))\n",
    "    return poly_arrays\n",
    "\n",
    "def get_poly_from_custom(polys):\n",
    "    poly_arrays = []\n",
    "    for poly in polys:\n",
    "        poly_array = []\n",
    "        for i in range(int(len(poly)/2)):\n",
    "            poly_array.append( ( int(poly[f\"x{i + 1}\"]), int(poly[f\"y{i + 1}\"]) ))\n",
    "        poly_arrays.append([Polygon(poly_array), False])\n",
    "    return poly_arrays\n",
    "\n",
    "def get_best_iou(poly, data):\n",
    "    max_iou = 0\n",
    "    MIN_IOU = 0.4\n",
    "    for i in range(len(data)):\n",
    "        intersect = poly.intersection(data[i][0]).area\n",
    "        union = poly.union(data[i][0]).area\n",
    "        iou = intersect / union\n",
    "        if iou > max_iou and iou > MIN_IOU:\n",
    "            max_iou = iou\n",
    "            data[i][1] = True\n",
    "    return max_iou\n"
   ]
  },
  {
   "cell_type": "code",
   "execution_count": null,
   "id": "2c829771",
   "metadata": {},
   "outputs": [],
   "source": [
    "model_segmentation = SegmentationInference('FishialReaserch/best_scores/model_0067499_amp_on-Copy1.pth', device='cuda')"
   ]
  },
  {
   "cell_type": "code",
   "execution_count": 2,
   "id": "325d8595",
   "metadata": {},
   "outputs": [
    {
     "name": "stdout",
     "output_type": "stream",
     "text": [
      "error:  FishialReaserch/datasets/fishial_collection/cache/00008114.jpg\n",
      "error:  FishialReaserch/datasets/fishial_collection/cache/00008313.jpg\n",
      "error:  FishialReaserch/datasets/fishial_collection/cache/00008341.jpg\n",
      "error:  FishialReaserch/datasets/fishial_collection/cache/00008364.jpg\n",
      "Left: 23468 skip: 0"
     ]
    },
    {
     "ename": "KeyboardInterrupt",
     "evalue": "",
     "output_type": "error",
     "traceback": [
      "\u001b[0;31m---------------------------------------------------------------------------\u001b[0m",
      "\u001b[0;31mKeyboardInterrupt\u001b[0m                         Traceback (most recent call last)",
      "\u001b[0;32m<ipython-input-2-655cb1b052c7>\u001b[0m in \u001b[0;36m<module>\u001b[0;34m\u001b[0m\n\u001b[1;32m      1\u001b[0m dataset_val = get_dataset_dicts('FishialReaserch/datasets/fishial_collection/cache', \"Test\", \n\u001b[0;32m----> 2\u001b[0;31m                   json_file=\"FishialReaserch/datasets/fishial_collection/export.json\")\n\u001b[0m",
      "\u001b[0;32m~/Fishial/FishialReaserch/module/segmentation_package/src/utils.py\u001b[0m in \u001b[0;36mget_dataset_dicts\u001b[0;34m(img_dir, state, json_file)\u001b[0m\n\u001b[1;32m     52\u001b[0m     \u001b[0mfull_data\u001b[0m \u001b[0;34m=\u001b[0m \u001b[0;34m{\u001b[0m\u001b[0;34m}\u001b[0m\u001b[0;34m\u001b[0m\u001b[0;34m\u001b[0m\u001b[0m\n\u001b[1;32m     53\u001b[0m     \u001b[0;32mfor\u001b[0m \u001b[0mindices\u001b[0m\u001b[0;34m,\u001b[0m \u001b[0mann\u001b[0m \u001b[0;32min\u001b[0m \u001b[0menumerate\u001b[0m\u001b[0;34m(\u001b[0m\u001b[0mdata\u001b[0m\u001b[0;34m[\u001b[0m\u001b[0;34m'annotations'\u001b[0m\u001b[0;34m]\u001b[0m\u001b[0;34m)\u001b[0m\u001b[0;34m:\u001b[0m\u001b[0;34m\u001b[0m\u001b[0;34m\u001b[0m\u001b[0m\n\u001b[0;32m---> 54\u001b[0;31m         \u001b[0mprint\u001b[0m\u001b[0;34m(\u001b[0m\u001b[0;34mf\"Left: {len(data['annotations']) - indices} skip: {skip_cnt}\"\u001b[0m\u001b[0;34m,\u001b[0m \u001b[0mend\u001b[0m\u001b[0;34m=\u001b[0m\u001b[0;34m'\\r'\u001b[0m\u001b[0;34m)\u001b[0m\u001b[0;34m\u001b[0m\u001b[0;34m\u001b[0m\u001b[0m\n\u001b[0m\u001b[1;32m     55\u001b[0m \u001b[0;34m\u001b[0m\u001b[0m\n\u001b[1;32m     56\u001b[0m         \u001b[0;32mif\u001b[0m \u001b[0mann\u001b[0m\u001b[0;34m[\u001b[0m\u001b[0;34m'image_id'\u001b[0m\u001b[0;34m]\u001b[0m \u001b[0;32min\u001b[0m \u001b[0mskip_data\u001b[0m\u001b[0;34m:\u001b[0m \u001b[0;32mcontinue\u001b[0m\u001b[0;34m\u001b[0m\u001b[0;34m\u001b[0m\u001b[0m\n",
      "\u001b[0;32m~/anaconda3/envs/d2go-env/lib/python3.6/site-packages/ipykernel/iostream.py\u001b[0m in \u001b[0;36mwrite\u001b[0;34m(self, string)\u001b[0m\n\u001b[1;32m    402\u001b[0m             \u001b[0mis_child\u001b[0m \u001b[0;34m=\u001b[0m \u001b[0;34m(\u001b[0m\u001b[0;32mnot\u001b[0m \u001b[0mself\u001b[0m\u001b[0;34m.\u001b[0m\u001b[0m_is_master_process\u001b[0m\u001b[0;34m(\u001b[0m\u001b[0;34m)\u001b[0m\u001b[0;34m)\u001b[0m\u001b[0;34m\u001b[0m\u001b[0;34m\u001b[0m\u001b[0m\n\u001b[1;32m    403\u001b[0m             \u001b[0;31m# only touch the buffer in the IO thread to avoid races\u001b[0m\u001b[0;34m\u001b[0m\u001b[0;34m\u001b[0m\u001b[0;34m\u001b[0m\u001b[0m\n\u001b[0;32m--> 404\u001b[0;31m             \u001b[0mself\u001b[0m\u001b[0;34m.\u001b[0m\u001b[0mpub_thread\u001b[0m\u001b[0;34m.\u001b[0m\u001b[0mschedule\u001b[0m\u001b[0;34m(\u001b[0m\u001b[0;32mlambda\u001b[0m \u001b[0;34m:\u001b[0m \u001b[0mself\u001b[0m\u001b[0;34m.\u001b[0m\u001b[0m_buffer\u001b[0m\u001b[0;34m.\u001b[0m\u001b[0mwrite\u001b[0m\u001b[0;34m(\u001b[0m\u001b[0mstring\u001b[0m\u001b[0;34m)\u001b[0m\u001b[0;34m)\u001b[0m\u001b[0;34m\u001b[0m\u001b[0;34m\u001b[0m\u001b[0m\n\u001b[0m\u001b[1;32m    405\u001b[0m             \u001b[0;32mif\u001b[0m \u001b[0mis_child\u001b[0m\u001b[0;34m:\u001b[0m\u001b[0;34m\u001b[0m\u001b[0;34m\u001b[0m\u001b[0m\n\u001b[1;32m    406\u001b[0m                 \u001b[0;31m# mp.Pool cannot be trusted to flush promptly (or ever),\u001b[0m\u001b[0;34m\u001b[0m\u001b[0;34m\u001b[0m\u001b[0;34m\u001b[0m\u001b[0m\n",
      "\u001b[0;32m~/anaconda3/envs/d2go-env/lib/python3.6/site-packages/ipykernel/iostream.py\u001b[0m in \u001b[0;36mschedule\u001b[0;34m(self, f)\u001b[0m\n\u001b[1;32m    203\u001b[0m             \u001b[0mself\u001b[0m\u001b[0;34m.\u001b[0m\u001b[0m_events\u001b[0m\u001b[0;34m.\u001b[0m\u001b[0mappend\u001b[0m\u001b[0;34m(\u001b[0m\u001b[0mf\u001b[0m\u001b[0;34m)\u001b[0m\u001b[0;34m\u001b[0m\u001b[0;34m\u001b[0m\u001b[0m\n\u001b[1;32m    204\u001b[0m             \u001b[0;31m# wake event thread (message content is ignored)\u001b[0m\u001b[0;34m\u001b[0m\u001b[0;34m\u001b[0m\u001b[0;34m\u001b[0m\u001b[0m\n\u001b[0;32m--> 205\u001b[0;31m             \u001b[0mself\u001b[0m\u001b[0;34m.\u001b[0m\u001b[0m_event_pipe\u001b[0m\u001b[0;34m.\u001b[0m\u001b[0msend\u001b[0m\u001b[0;34m(\u001b[0m\u001b[0;34mb''\u001b[0m\u001b[0;34m)\u001b[0m\u001b[0;34m\u001b[0m\u001b[0;34m\u001b[0m\u001b[0m\n\u001b[0m\u001b[1;32m    206\u001b[0m         \u001b[0;32melse\u001b[0m\u001b[0;34m:\u001b[0m\u001b[0;34m\u001b[0m\u001b[0;34m\u001b[0m\u001b[0m\n\u001b[1;32m    207\u001b[0m             \u001b[0mf\u001b[0m\u001b[0;34m(\u001b[0m\u001b[0;34m)\u001b[0m\u001b[0;34m\u001b[0m\u001b[0;34m\u001b[0m\u001b[0m\n",
      "\u001b[0;31mKeyboardInterrupt\u001b[0m: "
     ]
    }
   ],
   "source": [
    "dataset_val = get_dataset_dicts('FishialReaserch/datasets/fishial_collection/cache', \"Test\", \n",
    "                  json_file=\"FishialReaserch/datasets/fishial_collection/export.json\")"
   ]
  },
  {
   "cell_type": "code",
   "execution_count": null,
   "id": "12606327",
   "metadata": {
    "scrolled": true
   },
   "outputs": [],
   "source": [
    "total_res = {}\n",
    "sdasd = 0\n",
    "\n",
    "for image_id in tqdm(range(len(dataset_val[:10]))):\n",
    "    \n",
    "    image_path = dataset_val[image_id]['file_name']\n",
    "    annotations = dataset_val[image_id]['annotations']\n",
    "    img = get_image(image_path)\n",
    "\n",
    "    s_t = time.time()\n",
    "    array, masks, outputs = model_segmentation.simple_inference(img)\n",
    "    time\n",
    "    true_poly = get_poly_from_coco(annotations)\n",
    "    discovered = get_poly_from_custom(array)\n",
    "\n",
    "    dict_with_outcome = {\n",
    "        'iou': [],\n",
    "        'area': [],\n",
    "        'false': 0\n",
    "    }\n",
    "    for i in range(len(true_poly)):\n",
    "        try:\n",
    "            print(\"size: \",true_poly[i].area / (dataset_val[image_id]['height'] * dataset_val[image_id]['width']))\n",
    "            iou = get_best_iou(true_poly[i], discovered)\n",
    "            dict_with_outcome['iou'].append(iou)\n",
    "            dict_with_outcome['area'].append(true_poly[i].area / dataset_val[image_id]['height'] * dataset_val[image_id]['width'])\n",
    "        except Exception as e:\n",
    "            dict_with_outcome['iou'].append(0)\n",
    "            dict_with_outcome['area'].append(true_poly[i].area/ dataset_val[image_id]['height'] * dataset_val[image_id]['width'])\n",
    "\n",
    "#     dict_with_outcome['false'] = len(discovered) - sum([ss[1] for ss in discovered])\n",
    "#     sdasd += len(discovered) - sum([ss[1] for ss in discovered])\n",
    "#     total_res.update({os.path.basename(image_path):dict_with_outcome})\n",
    "# save_json(total_res, 'name_test.json')"
   ]
  },
  {
   "cell_type": "code",
   "execution_count": null,
   "id": "ca8c0d93",
   "metadata": {},
   "outputs": [],
   "source": [
    "len(dataset_val)"
   ]
  },
  {
   "cell_type": "code",
   "execution_count": null,
   "id": "b42415fa",
   "metadata": {},
   "outputs": [],
   "source": []
  }
 ],
 "metadata": {
  "kernelspec": {
   "display_name": "Python 3",
   "language": "python",
   "name": "python3"
  },
  "language_info": {
   "codemirror_mode": {
    "name": "ipython",
    "version": 3
   },
   "file_extension": ".py",
   "mimetype": "text/x-python",
   "name": "python",
   "nbconvert_exporter": "python",
   "pygments_lexer": "ipython3",
   "version": "3.6.13"
  }
 },
 "nbformat": 4,
 "nbformat_minor": 5
}
